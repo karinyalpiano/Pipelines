{
  "nbformat": 4,
  "nbformat_minor": 0,
  "metadata": {
    "colab": {
      "provenance": []
    },
    "kernelspec": {
      "name": "python3",
      "display_name": "Python 3"
    },
    "language_info": {
      "name": "python"
    }
  },
  "cells": [
    {
      "cell_type": "markdown",
      "source": [
        "##Instalação obrigatória"
      ],
      "metadata": {
        "id": "yQ93AvO1lWaq"
      }
    },
    {
      "cell_type": "code",
      "execution_count": null,
      "metadata": {
        "id": "xKp9RguBah2H"
      },
      "outputs": [],
      "source": [
        "#pip install --upgrade pip\n",
        "#pip install apache_beam[interactive]\n",
        "#pip install apache_beam[gcp]"
      ]
    },
    {
      "cell_type": "markdown",
      "source": [
        "##Ler e Exibir a leitura"
      ],
      "metadata": {
        "id": "Uew_jp2ClWD2"
      }
    },
    {
      "cell_type": "markdown",
      "source": [
        "AIRLINE', 'ORIGIN_AIRPORT', 'DESTINATION_AIRPORT', 'SCHEDULED_DEPARTURE', 'DEPARTURE_TIME', 'DEPARTURE_DELAY', 'TAXI_OUT', 'WHEELS_OFF', 'SCHEDULED_TIME', 'ELAPSED_TIME', 'AIR_TIME', 'DISTANCE', 'WHEELS_ON', 'TAXI_IN', 'SCHEDULED_ARRIVAL', 'ARRIVAL_TIME', 'ARRIVAL_DELAY', 'DIVERTED', 'CANCELLED'"
      ],
      "metadata": {
        "id": "L_jHmeTswSff"
      }
    },
    {
      "cell_type": "code",
      "source": [
        "import apache_beam as beam\n",
        "\n",
        "p1 = beam.Pipeline()\n",
        "\n",
        "voos = (\n",
        "    p1\n",
        "    |'Extrair do CSV'>> beam.io.ReadFromText('/content/voos.csv',skip_header_lines=1)\n",
        "    |'Separador de dados'>> beam.Map(lambda record: record.split(','))\n",
        "    |'Imprimir o resultado'>> beam.Map(print)\n",
        ")\n",
        "\n",
        "p1.run()"
      ],
      "metadata": {
        "id": "3SE0XmOtifvO"
      },
      "execution_count": null,
      "outputs": []
    },
    {
      "cell_type": "markdown",
      "source": [
        "#Criação de arquivo"
      ],
      "metadata": {
        "id": "d0rNzk6Zx-X8"
      }
    },
    {
      "cell_type": "code",
      "source": [
        "import apache_beam as beam\n",
        "\n",
        "p1 = beam.Pipeline()\n",
        "\n",
        "voos = (\n",
        "    p1\n",
        "    |'Extrair do CSV'>> beam.io.ReadFromText('/content/voos.csv',skip_header_lines=0)\n",
        "    |'Separador de dados'>> beam.Map(lambda record: record.split(','))\n",
        "    #|'Imprimir o resultado'>> beam.Map(print)\n",
        "    |'Criar arquivo'>> beam.io.WriteToText('saidaerro.txt')\n",
        ")\n",
        "\n",
        "p1.run()"
      ],
      "metadata": {
        "id": "9LsczXWWx-Cc"
      },
      "execution_count": null,
      "outputs": []
    },
    {
      "cell_type": "markdown",
      "source": [
        "##Filtros\n"
      ],
      "metadata": {
        "id": "LylgKvCi3no_"
      }
    },
    {
      "cell_type": "code",
      "source": [
        "#Filtrar o aero origem SFO\n",
        "import apache_beam as beam\n",
        "\n",
        "p1 = beam.Pipeline()\n",
        "\n",
        "voos = (\n",
        "    p1\n",
        "    |'Extrair do CSV'>> beam.io.ReadFromText('/content/voos.csv',skip_header_lines=1)\n",
        "    |'Separador de dados'>> beam.Map(lambda record: record.split(','))\n",
        "    |'Filtro aero'>> beam.Filter(lambda record: record[1] == 'SFO')\n",
        "    |'Imprimir o resultado'>> beam.Map(print)\n",
        "    #|'Criar arquivo'>> beam.io.WriteToText('saidaerro.txt')\n",
        ")\n",
        "\n",
        "p1.run()"
      ],
      "metadata": {
        "id": "MuUQ71Dh3pPu"
      },
      "execution_count": null,
      "outputs": []
    },
    {
      "cell_type": "code",
      "source": [
        "#Filtrar saida atrasada\n",
        "import apache_beam as beam\n",
        "\n",
        "p1 = beam.Pipeline()\n",
        "\n",
        "voos = (\n",
        "    p1\n",
        "    |'Extrair do CSV'>> beam.io.ReadFromText('/content/voos.csv',skip_header_lines=1)\n",
        "    |'Separador de dados'>> beam.Map(lambda record: record.split(','))\n",
        "    |'Filtro atraso'>> beam.Filter(lambda record: float(record[5])>0)\n",
        "    |'Imprimir o resultado'>> beam.Map(print)\n",
        "    #|'Criar arquivo'>> beam.io.WriteToText('saidaerro.txt')\n",
        ")\n",
        "\n",
        "p1.run()"
      ],
      "metadata": {
        "id": "HB44lemB8E7p"
      },
      "execution_count": null,
      "outputs": []
    },
    {
      "cell_type": "code",
      "source": [
        "#Filtrar Voo atrasado\n",
        "import apache_beam as beam\n",
        "\n",
        "p1 = beam.Pipeline()\n",
        "\n",
        "voos = (\n",
        "    p1\n",
        "    |'Extrair do CSV'>> beam.io.ReadFromText('/content/voos.csv',skip_header_lines=1)\n",
        "    |'Separador de dados'>> beam.Map(lambda record: record.split(','))\n",
        "    |'Filtro atraso'>> beam.Filter(lambda record: float(record[16])>0)\n",
        "    |'Imprimir o resultado'>> beam.Map(print)\n",
        "    #|'Criar arquivo'>> beam.io.WriteToText('saidaerro.txt')\n",
        ")\n",
        "\n",
        "p1.run()"
      ],
      "metadata": {
        "id": "kWm6g-MR_KDE"
      },
      "execution_count": null,
      "outputs": []
    },
    {
      "cell_type": "markdown",
      "source": [
        "##Agrupamento"
      ],
      "metadata": {
        "id": "udLT_XW8VZpn"
      }
    },
    {
      "cell_type": "code",
      "source": [
        "#Agrupamento de minutos de atraso por aero\n",
        "import apache_beam as beam\n",
        "\n",
        "p1 = beam.Pipeline()\n",
        "\n",
        "voos = (\n",
        "    p1\n",
        "    |'Extrair do CSV'>> beam.io.ReadFromText('/content/voos.csv',skip_header_lines=1)\n",
        "    |'Separador de dados'>> beam.Map(lambda record: record.split(','))\n",
        "    |'Filtro atraso'>> beam.Filter(lambda record: float(record[16])>0)\n",
        "    |'Agregar as colunas'>> beam.Map(lambda record: (record[1],float(record[16])))\n",
        "    |'construir tabela por minutos somados'>> beam.CombinePerKey(sum)\n",
        "    |'Imprimir o resultado'>> beam.Map(print)\n",
        "    #|'Criar arquivo'>> beam.io.WriteToText('saidaerro.txt')\n",
        ")\n",
        "\n",
        "p1.run()"
      ],
      "metadata": {
        "id": "ssK8bQFrVbSv"
      },
      "execution_count": null,
      "outputs": []
    },
    {
      "cell_type": "code",
      "source": [
        "#Agrupamento ocorrencias de atraso por aero\n",
        "import apache_beam as beam\n",
        "\n",
        "p1 = beam.Pipeline()\n",
        "\n",
        "voos = (\n",
        "    p1\n",
        "    |'Extrair do CSV'>> beam.io.ReadFromText('/content/voos.csv',skip_header_lines=1)\n",
        "    |'Separador de dados'>> beam.Map(lambda record: record.split(','))\n",
        "    |'Filtro atraso'>> beam.Filter(lambda record: float(record[16])>0)\n",
        "    |'Agregar as colunas'>> beam.Map(lambda record: (record[1],float(record[16])))\n",
        "    |'construir tabela por minutos somados'>> beam.combiners.Count.PerKey()\n",
        "    |'Imprimir o resultado'>> beam.Map(print)\n",
        "    #|'Criar arquivo'>> beam.io.WriteToText('saidaerro.txt')\n",
        ")\n",
        "\n",
        "p1.run()"
      ],
      "metadata": {
        "id": "je6-u4z2Z0Cm"
      },
      "execution_count": null,
      "outputs": []
    },
    {
      "cell_type": "markdown",
      "source": [
        "##CoGroupbykey"
      ],
      "metadata": {
        "id": "VSdoV7abbNCE"
      }
    },
    {
      "cell_type": "code",
      "source": [
        "#Criar nova tabela com dados agregados de duas pipes\n",
        "import apache_beam as beam\n",
        "\n",
        "p1 = beam.Pipeline()\n",
        "\n",
        "qte_tempo = (\n",
        "    p1\n",
        "    |'Extrair do CSV'>> beam.io.ReadFromText('/content/voos.csv',skip_header_lines=1)\n",
        "    |'Separador de dados'>> beam.Map(lambda record: record.split(','))\n",
        "    |'Filtro atraso'>> beam.Filter(lambda record: float(record[16])>0)\n",
        "    |'Agregar as colunas'>> beam.Map(lambda record: (record[1],float(record[16])))\n",
        "    |'construir tabela por minutos somados'>> beam.CombinePerKey(sum)\n",
        "    #|'Imprimir o resultado'>> beam.Map(print)\n",
        "    #|'Criar arquivo'>> beam.io.WriteToText('saidaerro.txt')\n",
        ")\n",
        "\n",
        "qte_ocor = (\n",
        "    p1\n",
        "    |'1Extrair do CSV'>> beam.io.ReadFromText('/content/voos.csv',skip_header_lines=1)\n",
        "    |'1Separador de dados'>> beam.Map(lambda record: record.split(','))\n",
        "    |'1Filtro atraso'>> beam.Filter(lambda record: float(record[16])>0)\n",
        "    |'1Agregar as colunas'>> beam.Map(lambda record: (record[1],float(record[16])))\n",
        "    |'1construir tabela por minutos somados'>> beam.combiners.Count.PerKey()\n",
        "    #|'Imprimir o resultado'>> beam.Map(print)\n",
        "    #|'Criar arquivo'>> beam.io.WriteToText('saidaerro.txt')\n",
        ")\n",
        "\n",
        "tabela = (\n",
        "    {'Num_de_ocorrencias':qte_ocor,'Quant_minutos':qte_tempo}\n",
        "    |'Agrupar as pernas'>> beam.CoGroupByKey()\n",
        "    #|'Resultado  final'>> beam.Map(print)\n",
        "    |'Load final'>> beam.io.WriteToText('tabelafim.txt')\n",
        ")\n",
        "p1.run()"
      ],
      "metadata": {
        "colab": {
          "base_uri": "https://localhost:8080/"
        },
        "id": "qheDY57VbQak",
        "outputId": "9aaf7d19-8caa-44ea-db62-8601d0560c48"
      },
      "execution_count": null,
      "outputs": [
        {
          "output_type": "execute_result",
          "data": {
            "text/plain": [
              "<apache_beam.runners.portability.fn_api_runner.fn_runner.RunnerResult at 0x7fcff3efed90>"
            ]
          },
          "metadata": {},
          "execution_count": 25
        }
      ]
    },
    {
      "cell_type": "markdown",
      "source": [
        "##Criação de model para GCP"
      ],
      "metadata": {
        "id": "8OxDmNhbnt3d"
      }
    },
    {
      "cell_type": "code",
      "source": [
        "import apache_beam as beam\n",
        "import os\n",
        "from apache_beam.options.pipeline_options import PipelineOptions\n",
        "\n",
        "pipeline_options = {\n",
        "    'project':'bc26-aulas-368614',\n",
        "    'runner':'DataflowRunner',\n",
        "    'region':'southamerica-east1',\n",
        "    'staging_location':'gs://bc26-datasets/staging/',\n",
        "    'temp_location':'gs://bc26-datasets/temp/',\n",
        "    'template_location':'gs://bc26-datasets/models/modelo_batch'\n",
        "}\n",
        "\n",
        "serviceAccount = '/content/bc26-aulas-368614-7b5657fd555a.json'\n",
        "os.environ['GOOGLE_APPLICATION_CREDENTIALS'] = serviceAccount\n",
        "\n",
        "pipeline_options = PipelineOptions.from_dictionary(pipeline_options)\n",
        "\n",
        "p1 = beam.Pipeline(options=pipeline_options)\n",
        "\n",
        "qte_tempo = (\n",
        "    p1\n",
        "    |'Extrair do CSV'>> beam.io.ReadFromText('gs://bc26-datasets/brutos/voos.csv',skip_header_lines=1)\n",
        "    |'Separador de dados'>> beam.Map(lambda record: record.split(','))\n",
        "    |'Filtro atraso'>> beam.Filter(lambda record: float(record[16])>0)\n",
        "    |'Agregar as colunas'>> beam.Map(lambda record: (record[1],float(record[16])))\n",
        "    |'construir tabela por minutos somados'>> beam.CombinePerKey(sum)\n",
        "    #|'Imprimir o resultado'>> beam.Map(print)\n",
        "    #|'Criar arquivo'>> beam.io.WriteToText('saidaerro.txt')\n",
        ")\n",
        "\n",
        "qte_ocor = (\n",
        "    p1\n",
        "    |'Abrir do CSV'>> beam.io.ReadFromText('gs://bc26-datasets/brutos/voos.csv',skip_header_lines=1)\n",
        "    |'Separar por virgula'>> beam.Map(lambda record: record.split(','))\n",
        "    |'Filtro aero atraso'>> beam.Filter(lambda record: float(record[16])>0)\n",
        "    |'Juntar as colunas'>> beam.Map(lambda record: (record[1],float(record[16])))\n",
        "    |'construir tabela por ocorrencia'>> beam.combiners.Count.PerKey()\n",
        "    #|'Imprimir o resultado'>> beam.Map(print)\n",
        "    #|'Criar arquivo'>> beam.io.WriteToText('saidaerro.txt')\n",
        ")\n",
        "\n",
        "tabela = (\n",
        "    {'Num_de_ocorrencias':qte_ocor,'Quant_minutos':qte_tempo}\n",
        "    |'Agrupar as pernas'>> beam.CoGroupByKey()\n",
        "    #|'Resultado  final'>> beam.Map(print)\n",
        "    |'Load final'>> beam.io.WriteToText('gs://bc26-datasets/tratado/voosatr',file_name_suffix='.csv')\n",
        ")\n",
        "p1.run()"
      ],
      "metadata": {
        "colab": {
          "base_uri": "https://localhost:8080/",
          "height": 107
        },
        "id": "monhWfadnxHy",
        "outputId": "24d26223-a42b-430c-e704-61e52fba4dab"
      },
      "execution_count": null,
      "outputs": [
        {
          "output_type": "display_data",
          "data": {
            "text/plain": [
              "<IPython.core.display.HTML object>"
            ],
            "text/html": [
              "\n",
              "  <style>\n",
              "    div.alert {\n",
              "      white-space: pre-line;\n",
              "    }\n",
              "  </style>\n"
            ]
          },
          "metadata": {}
        },
        {
          "output_type": "display_data",
          "data": {
            "text/plain": [
              "<IPython.core.display.HTML object>"
            ],
            "text/html": [
              "\n",
              "            <link rel=\"stylesheet\" href=\"https://stackpath.bootstrapcdn.com/bootstrap/4.4.1/css/bootstrap.min.css\" integrity=\"sha384-Vkoo8x4CGsO3+Hhxv8T/Q5PaXtkKtu6ug5TOeNV6gBiFeWPGFN9MuhOf23Q9Ifjh\" crossorigin=\"anonymous\">\n",
              "            <div class=\"alert alert-info\">No cache_root detected. Defaulting to staging_location gs://bc26-datasets/staging/ for cache location.</div>"
            ]
          },
          "metadata": {}
        },
        {
          "output_type": "execute_result",
          "data": {
            "text/plain": [
              "<DataflowPipelineResult None at 0x7fcff346f580>"
            ]
          },
          "metadata": {},
          "execution_count": 26
        }
      ]
    }
  ]
}